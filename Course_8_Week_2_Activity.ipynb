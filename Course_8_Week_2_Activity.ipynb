{
  "nbformat": 4,
  "nbformat_minor": 0,
  "metadata": {
    "colab": {
      "provenance": [],
      "include_colab_link": true
    },
    "kernelspec": {
      "name": "python3",
      "display_name": "Python 3"
    },
    "language_info": {
      "name": "python"
    }
  },
  "cells": [
    {
      "cell_type": "markdown",
      "metadata": {
        "id": "view-in-github",
        "colab_type": "text"
      },
      "source": [
        "<a href=\"https://colab.research.google.com/github/ozmaadnan/projects/blob/main/Course_8_Week_2_Activity.ipynb\" target=\"_parent\"><img src=\"https://colab.research.google.com/assets/colab-badge.svg\" alt=\"Open In Colab\"/></a>"
      ]
    },
    {
      "cell_type": "code",
      "execution_count": null,
      "metadata": {
        "id": "T5lR5mHLJgw3"
      },
      "outputs": [],
      "source": [
        "import pandas as pd\n",
        "import numpy as np\n",
        "import matplotlib.pyplot as plt\n",
        "import matplotlib.colors as clr"
      ]
    },
    {
      "cell_type": "code",
      "source": [
        "df = pd.read_csv('pepsico_products.csv')"
      ],
      "metadata": {
        "id": "b0rsniV4Kqu-"
      },
      "execution_count": null,
      "outputs": []
    },
    {
      "cell_type": "code",
      "source": [
        "df.head()"
      ],
      "metadata": {
        "colab": {
          "base_uri": "https://localhost:8080/",
          "height": 206
        },
        "id": "s1FcGbJ5KvIb",
        "outputId": "c088b451-a641-480f-aa0f-93f59cd949ee"
      },
      "execution_count": null,
      "outputs": [
        {
          "output_type": "execute_result",
          "data": {
            "text/plain": [
              "   Product Name  Year Launched  Status Region Served     Category  \\\n",
              "0         Pepsi           1893  Active     Worldwide         Cola   \n",
              "1  Mountain Dew           1940  Active     Worldwide  Citrus Soda   \n",
              "2         Lay's           1932  Active     Worldwide        Snack   \n",
              "3       Doritos           1964  Active     Worldwide        Snack   \n",
              "4     Tropicana           1947  Active     Worldwide    Beverages   \n",
              "\n",
              "             Ownership  \n",
              "0              PepsiCo  \n",
              "1              PepsiCo  \n",
              "2  Frito-Lay (PepsiCo)  \n",
              "3  Frito-Lay (PepsiCo)  \n",
              "4  Tropicana (PepsiCo)  "
            ],
            "text/html": [
              "\n",
              "\n",
              "  <div id=\"df-81b97cbd-c566-450a-927f-a445a25bcf15\">\n",
              "    <div class=\"colab-df-container\">\n",
              "      <div>\n",
              "<style scoped>\n",
              "    .dataframe tbody tr th:only-of-type {\n",
              "        vertical-align: middle;\n",
              "    }\n",
              "\n",
              "    .dataframe tbody tr th {\n",
              "        vertical-align: top;\n",
              "    }\n",
              "\n",
              "    .dataframe thead th {\n",
              "        text-align: right;\n",
              "    }\n",
              "</style>\n",
              "<table border=\"1\" class=\"dataframe\">\n",
              "  <thead>\n",
              "    <tr style=\"text-align: right;\">\n",
              "      <th></th>\n",
              "      <th>Product Name</th>\n",
              "      <th>Year Launched</th>\n",
              "      <th>Status</th>\n",
              "      <th>Region Served</th>\n",
              "      <th>Category</th>\n",
              "      <th>Ownership</th>\n",
              "    </tr>\n",
              "  </thead>\n",
              "  <tbody>\n",
              "    <tr>\n",
              "      <th>0</th>\n",
              "      <td>Pepsi</td>\n",
              "      <td>1893</td>\n",
              "      <td>Active</td>\n",
              "      <td>Worldwide</td>\n",
              "      <td>Cola</td>\n",
              "      <td>PepsiCo</td>\n",
              "    </tr>\n",
              "    <tr>\n",
              "      <th>1</th>\n",
              "      <td>Mountain Dew</td>\n",
              "      <td>1940</td>\n",
              "      <td>Active</td>\n",
              "      <td>Worldwide</td>\n",
              "      <td>Citrus Soda</td>\n",
              "      <td>PepsiCo</td>\n",
              "    </tr>\n",
              "    <tr>\n",
              "      <th>2</th>\n",
              "      <td>Lay's</td>\n",
              "      <td>1932</td>\n",
              "      <td>Active</td>\n",
              "      <td>Worldwide</td>\n",
              "      <td>Snack</td>\n",
              "      <td>Frito-Lay (PepsiCo)</td>\n",
              "    </tr>\n",
              "    <tr>\n",
              "      <th>3</th>\n",
              "      <td>Doritos</td>\n",
              "      <td>1964</td>\n",
              "      <td>Active</td>\n",
              "      <td>Worldwide</td>\n",
              "      <td>Snack</td>\n",
              "      <td>Frito-Lay (PepsiCo)</td>\n",
              "    </tr>\n",
              "    <tr>\n",
              "      <th>4</th>\n",
              "      <td>Tropicana</td>\n",
              "      <td>1947</td>\n",
              "      <td>Active</td>\n",
              "      <td>Worldwide</td>\n",
              "      <td>Beverages</td>\n",
              "      <td>Tropicana (PepsiCo)</td>\n",
              "    </tr>\n",
              "  </tbody>\n",
              "</table>\n",
              "</div>\n",
              "      <button class=\"colab-df-convert\" onclick=\"convertToInteractive('df-81b97cbd-c566-450a-927f-a445a25bcf15')\"\n",
              "              title=\"Convert this dataframe to an interactive table.\"\n",
              "              style=\"display:none;\">\n",
              "\n",
              "  <svg xmlns=\"http://www.w3.org/2000/svg\" height=\"24px\"viewBox=\"0 0 24 24\"\n",
              "       width=\"24px\">\n",
              "    <path d=\"M0 0h24v24H0V0z\" fill=\"none\"/>\n",
              "    <path d=\"M18.56 5.44l.94 2.06.94-2.06 2.06-.94-2.06-.94-.94-2.06-.94 2.06-2.06.94zm-11 1L8.5 8.5l.94-2.06 2.06-.94-2.06-.94L8.5 2.5l-.94 2.06-2.06.94zm10 10l.94 2.06.94-2.06 2.06-.94-2.06-.94-.94-2.06-.94 2.06-2.06.94z\"/><path d=\"M17.41 7.96l-1.37-1.37c-.4-.4-.92-.59-1.43-.59-.52 0-1.04.2-1.43.59L10.3 9.45l-7.72 7.72c-.78.78-.78 2.05 0 2.83L4 21.41c.39.39.9.59 1.41.59.51 0 1.02-.2 1.41-.59l7.78-7.78 2.81-2.81c.8-.78.8-2.07 0-2.86zM5.41 20L4 18.59l7.72-7.72 1.47 1.35L5.41 20z\"/>\n",
              "  </svg>\n",
              "      </button>\n",
              "\n",
              "\n",
              "\n",
              "    <div id=\"df-59bce87a-299d-461d-8b73-9d653a158516\">\n",
              "      <button class=\"colab-df-quickchart\" onclick=\"quickchart('df-59bce87a-299d-461d-8b73-9d653a158516')\"\n",
              "              title=\"Suggest charts.\"\n",
              "              style=\"display:none;\">\n",
              "\n",
              "<svg xmlns=\"http://www.w3.org/2000/svg\" height=\"24px\"viewBox=\"0 0 24 24\"\n",
              "     width=\"24px\">\n",
              "    <g>\n",
              "        <path d=\"M19 3H5c-1.1 0-2 .9-2 2v14c0 1.1.9 2 2 2h14c1.1 0 2-.9 2-2V5c0-1.1-.9-2-2-2zM9 17H7v-7h2v7zm4 0h-2V7h2v10zm4 0h-2v-4h2v4z\"/>\n",
              "    </g>\n",
              "</svg>\n",
              "      </button>\n",
              "    </div>\n",
              "\n",
              "<style>\n",
              "  .colab-df-quickchart {\n",
              "    background-color: #E8F0FE;\n",
              "    border: none;\n",
              "    border-radius: 50%;\n",
              "    cursor: pointer;\n",
              "    display: none;\n",
              "    fill: #1967D2;\n",
              "    height: 32px;\n",
              "    padding: 0 0 0 0;\n",
              "    width: 32px;\n",
              "  }\n",
              "\n",
              "  .colab-df-quickchart:hover {\n",
              "    background-color: #E2EBFA;\n",
              "    box-shadow: 0px 1px 2px rgba(60, 64, 67, 0.3), 0px 1px 3px 1px rgba(60, 64, 67, 0.15);\n",
              "    fill: #174EA6;\n",
              "  }\n",
              "\n",
              "  [theme=dark] .colab-df-quickchart {\n",
              "    background-color: #3B4455;\n",
              "    fill: #D2E3FC;\n",
              "  }\n",
              "\n",
              "  [theme=dark] .colab-df-quickchart:hover {\n",
              "    background-color: #434B5C;\n",
              "    box-shadow: 0px 1px 3px 1px rgba(0, 0, 0, 0.15);\n",
              "    filter: drop-shadow(0px 1px 2px rgba(0, 0, 0, 0.3));\n",
              "    fill: #FFFFFF;\n",
              "  }\n",
              "</style>\n",
              "\n",
              "    <script>\n",
              "      async function quickchart(key) {\n",
              "        const containerElement = document.querySelector('#' + key);\n",
              "        const charts = await google.colab.kernel.invokeFunction(\n",
              "            'suggestCharts', [key], {});\n",
              "      }\n",
              "    </script>\n",
              "\n",
              "      <script>\n",
              "\n",
              "function displayQuickchartButton(domScope) {\n",
              "  let quickchartButtonEl =\n",
              "    domScope.querySelector('#df-59bce87a-299d-461d-8b73-9d653a158516 button.colab-df-quickchart');\n",
              "  quickchartButtonEl.style.display =\n",
              "    google.colab.kernel.accessAllowed ? 'block' : 'none';\n",
              "}\n",
              "\n",
              "        displayQuickchartButton(document);\n",
              "      </script>\n",
              "      <style>\n",
              "    .colab-df-container {\n",
              "      display:flex;\n",
              "      flex-wrap:wrap;\n",
              "      gap: 12px;\n",
              "    }\n",
              "\n",
              "    .colab-df-convert {\n",
              "      background-color: #E8F0FE;\n",
              "      border: none;\n",
              "      border-radius: 50%;\n",
              "      cursor: pointer;\n",
              "      display: none;\n",
              "      fill: #1967D2;\n",
              "      height: 32px;\n",
              "      padding: 0 0 0 0;\n",
              "      width: 32px;\n",
              "    }\n",
              "\n",
              "    .colab-df-convert:hover {\n",
              "      background-color: #E2EBFA;\n",
              "      box-shadow: 0px 1px 2px rgba(60, 64, 67, 0.3), 0px 1px 3px 1px rgba(60, 64, 67, 0.15);\n",
              "      fill: #174EA6;\n",
              "    }\n",
              "\n",
              "    [theme=dark] .colab-df-convert {\n",
              "      background-color: #3B4455;\n",
              "      fill: #D2E3FC;\n",
              "    }\n",
              "\n",
              "    [theme=dark] .colab-df-convert:hover {\n",
              "      background-color: #434B5C;\n",
              "      box-shadow: 0px 1px 3px 1px rgba(0, 0, 0, 0.15);\n",
              "      filter: drop-shadow(0px 1px 2px rgba(0, 0, 0, 0.3));\n",
              "      fill: #FFFFFF;\n",
              "    }\n",
              "  </style>\n",
              "\n",
              "      <script>\n",
              "        const buttonEl =\n",
              "          document.querySelector('#df-81b97cbd-c566-450a-927f-a445a25bcf15 button.colab-df-convert');\n",
              "        buttonEl.style.display =\n",
              "          google.colab.kernel.accessAllowed ? 'block' : 'none';\n",
              "\n",
              "        async function convertToInteractive(key) {\n",
              "          const element = document.querySelector('#df-81b97cbd-c566-450a-927f-a445a25bcf15');\n",
              "          const dataTable =\n",
              "            await google.colab.kernel.invokeFunction('convertToInteractive',\n",
              "                                                     [key], {});\n",
              "          if (!dataTable) return;\n",
              "\n",
              "          const docLinkHtml = 'Like what you see? Visit the ' +\n",
              "            '<a target=\"_blank\" href=https://colab.research.google.com/notebooks/data_table.ipynb>data table notebook</a>'\n",
              "            + ' to learn more about interactive tables.';\n",
              "          element.innerHTML = '';\n",
              "          dataTable['output_type'] = 'display_data';\n",
              "          await google.colab.output.renderOutput(dataTable, element);\n",
              "          const docLink = document.createElement('div');\n",
              "          docLink.innerHTML = docLinkHtml;\n",
              "          element.appendChild(docLink);\n",
              "        }\n",
              "      </script>\n",
              "    </div>\n",
              "  </div>\n"
            ]
          },
          "metadata": {},
          "execution_count": 3
        }
      ]
    },
    {
      "cell_type": "code",
      "source": [
        "df.isnull().values.any()"
      ],
      "metadata": {
        "colab": {
          "base_uri": "https://localhost:8080/"
        },
        "id": "tn7CT8fsLygh",
        "outputId": "40591d30-7e13-48a0-fe5c-7d1d62437461"
      },
      "execution_count": null,
      "outputs": [
        {
          "output_type": "execute_result",
          "data": {
            "text/plain": [
              "False"
            ]
          },
          "metadata": {},
          "execution_count": 4
        }
      ]
    },
    {
      "cell_type": "code",
      "source": [
        "# SHOWING DECADE-WISE LAUNCH PLOT\n",
        "\n",
        "obj = df['Year Launched']\n",
        "\n",
        "fig, ax = plt.subplots(1, figsize=(7, 5))\n",
        "\n",
        "ax.set_title('Pepsi Product Launch Timeline', fontsize=16)\n",
        "\n",
        "# Creating the Histogram\n",
        "bin = round((obj.max()-obj.min())/10) + 1\n",
        "N, bins, patches = ax.hist(obj, rwidth = 0.8, bins = bin, edgecolor='black')\n",
        "\n",
        "# Setting color\n",
        "fracs = ((N**(1 / 5)) / N.max())\n",
        "norm = clr.Normalize(fracs.min(), fracs.max())\n",
        "\n",
        "for thisfrac, thispatch in zip(fracs, patches):\n",
        "    color = plt.cm.viridis(norm(thisfrac))\n",
        "    thispatch.set_facecolor(color)\n",
        "\n",
        "plt.xticks(rotation = 90)\n",
        "plt.xlabel('Decade', fontsize=12)\n",
        "plt.ylabel('Count', fontsize=12)\n",
        "\n",
        "# and we are good to go\n",
        "plt.show()"
      ],
      "metadata": {
        "colab": {
          "base_uri": "https://localhost:8080/",
          "height": 514
        },
        "id": "MnU_0NSDMVlJ",
        "outputId": "9484afcb-99c5-48c1-810f-5563cba08a6c"
      },
      "execution_count": null,
      "outputs": [
        {
          "output_type": "display_data",
          "data": {
            "text/plain": [
              "<Figure size 700x500 with 1 Axes>"
            ],
            "image/png": "[encoded data removed]"
          },
          "metadata": {}
        }
      ]
    },
    {
      "cell_type": "code",
      "source": [
        "# SHOWING OWNERSHIP-WISE COUNT PLOT\n",
        "\n",
        "obj = df['Ownership']\n",
        "\n",
        "fig, ax = plt.subplots(1, figsize=(7, 5))\n",
        "\n",
        "ax.set_title('Pepsi Ownership Count Plot', fontsize=16)\n",
        "\n",
        "# Creating the Histogram\n",
        "bin = obj.value_counts().count()\n",
        "N, bins, patches = ax.hist(obj, rwidth=0.8\n",
        "                           , bins = bin, edgecolor='black')\n",
        "\n",
        "# Setting color\n",
        "fracs = ((N**(1 / 5)) / N.max())\n",
        "norm = clr.Normalize(fracs.min(), fracs.max())\n",
        "\n",
        "for thisfrac, thispatch in zip(fracs, patches):\n",
        "    color = plt.cm.viridis(norm(thisfrac))\n",
        "    thispatch.set_facecolor(color)\n",
        "\n",
        "plt.xticks(rotation = 90)\n",
        "plt.xlabel('Ownership', fontsize=12)\n",
        "plt.ylabel('Count', fontsize=12)\n",
        "\n",
        "# and we are good to go\n",
        "plt.show()"
      ],
      "metadata": {
        "colab": {
          "base_uri": "https://localhost:8080/",
          "height": 671
        },
        "id": "sEP_QhjaP4d2",
        "outputId": "baebcba0-58e7-4a74-c155-06c8421ba9c6"
      },
      "execution_count": null,
      "outputs": [
        {
          "output_type": "display_data",
          "data": {
            "text/plain": [
              "<Figure size 700x500 with 1 Axes>"
            ],
            "image/png": "[encoded data removed]"
          },
          "metadata": {}
        }
      ]
    },
    {
      "cell_type": "code",
      "source": [],
      "metadata": {
        "id": "iP4SRZhjar4i"
      },
      "execution_count": null,
      "outputs": []
    }
  ]
}